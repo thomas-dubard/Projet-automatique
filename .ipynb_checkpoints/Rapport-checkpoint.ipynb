{
 "cells": [
  {
   "cell_type": "markdown",
   "metadata": {},
   "source": [
    "Entrée : $h_r$ <br>\n",
    "Sortie à mesurer : $h_m$, $N_m$ <br>\n",
    "Sortie à contrôler : $N$ <br>\n",
    "Etats : h, h', N"
   ]
  },
  {
   "cell_type": "markdown",
   "metadata": {},
   "source": [
    "$N' = u + d_1$ <br>\n",
    "$h'' = g - {B \\over m} + d_2$ <br>\n",
    "$B = \\rho \\cdot g \\cdot V_0 + \\rho \\cdot g \\cdot V$ <br>\n",
    "$p = p_0 + \\rho \\cdot g \\cdot h$ <br>\n",
    "$p \\cdot V = N \\cdot R \\cdot T$"
   ]
  },
  {
   "cell_type": "markdown",
   "metadata": {},
   "source": [
    "$g - {B \\over m}\n",
    "{\n",
    "= g \\Big(1 - {\\rho \\cdot V_0 \\over m} - {\\rho \\cdot V \\over m} \\Big) \\\\\n",
    "= a - {\\rho \\cdot g \\over m} V \\\\\n",
    "= a - b \\cdot {p_0 \\over R \\cdot T} \\cdot V \\\\\n",
    "= a - b \\cdot {p_0 \\over R \\cdot T} \\cdot {R \\cdot T \\over p} \\cdot N \\\\\n",
    "= a - b \\cdot {p_0 \\over p_0 + \\rho \\cdot g \\cdot h} \\cdot N \\\\\n",
    "= a - {b \\cdot N \\over 1 + c \\cdot h}\n",
    "}$"
   ]
  },
  {
   "cell_type": "markdown",
   "metadata": {},
   "source": [
    "$\\begin{cases}\n",
    "h' = q \\\\\n",
    "q' = a - { b \\cdot N \\over 1 + c \\cdot h} + d_2 \\\\\n",
    "N' = u + d_1\n",
    "\\end{cases}$"
   ]
  },
  {
   "cell_type": "markdown",
   "metadata": {},
   "source": []
  }
 ],
 "metadata": {
  "kernelspec": {
   "display_name": "Python 3",
   "language": "python",
   "name": "python3"
  },
  "language_info": {
   "codemirror_mode": {
    "name": "ipython",
    "version": 3
   },
   "file_extension": ".py",
   "mimetype": "text/x-python",
   "name": "python",
   "nbconvert_exporter": "python",
   "pygments_lexer": "ipython3",
   "version": "3.7.6"
  }
 },
 "nbformat": 4,
 "nbformat_minor": 4
}
