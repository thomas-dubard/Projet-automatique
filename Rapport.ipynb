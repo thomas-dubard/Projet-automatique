{
 "cells": [
  {
   "cell_type": "markdown",
   "metadata": {},
   "source": [
    "# Projet automatique - plongée sous-marine"
   ]
  },
  {
   "cell_type": "markdown",
   "metadata": {},
   "source": [
    "### Thomas DUBARD et Zhaoming LIANG"
   ]
  },
  {
   "cell_type": "markdown",
   "metadata": {},
   "source": [
    "## Question préliminaire - Système en boucle ouverte"
   ]
  },
  {
   "cell_type": "markdown",
   "metadata": {},
   "source": [
    "On commence par identifier les variables d'intérêt au sein du système."
   ]
  },
  {
   "cell_type": "markdown",
   "metadata": {},
   "source": [
    "* Entrée : $h_r$\n",
    "* Sortie à mesurer : $h_m$, $N_m$\n",
    "* Sortie à contrôler : $\\dot{N}$\n",
    "* États : $p, V, h, \\dot{h}, N$"
   ]
  },
  {
   "cell_type": "markdown",
   "metadata": {},
   "source": [
    "Ces variables évoluent au cours du temps et dans l'espace selon les équations suivantes :"
   ]
  },
  {
   "cell_type": "markdown",
   "metadata": {},
   "source": [
    "$\\dot{N} = u + d_1$ <br>\n",
    "$\\ddot{h} = g - \\frac{B}{m} + d_2$ <br>\n",
    "$B = \\rho g V_0 + \\rho g V$ <br>\n",
    "$p = p_0 + \\rho g h$ <br>\n",
    "$pV = NRT$"
   ]
  },
  {
   "cell_type": "markdown",
   "metadata": {},
   "source": [
    "Or nous connaissons les constantes suivantes :"
   ]
  },
  {
   "cell_type": "markdown",
   "metadata": {},
   "source": [
    "$a = g \\left (1 - \\frac{\\rho V_0}{m}\\right )$, $b = \\frac{\\rho g}{m}\\frac{RT}{\\rho_0}$, $c = \\frac{\\rho g}{\\rho_0}$"
   ]
  },
  {
   "cell_type": "markdown",
   "metadata": {},
   "source": [
    "On va donc essayer de réécrire le système d'équations, en ne gardant que les variables d'état $h, \\dot{h}$ et $N$.\n",
    "Par le changement de variable, en notant $\\dot{h} = q$, nous obtenons : "
   ]
  },
  {
   "cell_type": "markdown",
   "metadata": {},
   "source": [
    "$\\begin{cases}\n",
    "\\dot{h} = q \\\\ \n",
    "\\dot{q} = a - \\frac{bN}{1-c\\bar{h}} + d_2\\\\ \n",
    "\\dot{N} = u + d_1\n",
    "\\end{cases}$"
   ]
  },
  {
   "cell_type": "markdown",
   "metadata": {},
   "source": [
    "En effet, nous avons :"
   ]
  },
  {
   "cell_type": "markdown",
   "metadata": {},
   "source": [
    "$g - {B \\over m}\n",
    "{\n",
    "= g \\Big(1 - {\\rho \\cdot V_0 \\over m} - {\\rho \\cdot V \\over m} \\Big) \\\\\n",
    "= a - {\\rho \\cdot g \\over m} V \\\\\n",
    "= a - b \\cdot {p_0 \\over R \\cdot T} \\cdot V \\\\\n",
    "= a - b \\cdot {p_0 \\over R \\cdot T} \\cdot {R \\cdot T \\over p} \\cdot N \\\\\n",
    "= a - b \\cdot {p_0 \\over p_0 + \\rho \\cdot g \\cdot h} \\cdot N \\\\\n",
    "= a - {b \\cdot N \\over 1 + c \\cdot h}\n",
    "}$"
   ]
  },
  {
   "cell_type": "markdown",
   "metadata": {},
   "source": [
    "À l'équilibre, nous avons $\\dot{h} = \\dot{q} = \\dot{N} = 0$, qui nous donne :"
   ]
  },
  {
   "cell_type": "markdown",
   "metadata": {},
   "source": [
    "$\\begin{cases}\n",
    "0 = q \\\\ \n",
    "0 = a - \\frac{bN}{1-c\\bar{h}} + d_2\\\\ \n",
    "0 = u + d_1\n",
    "\\end{cases}\n",
    "~~~\\Rightarrow~~~~\n",
    "\\begin{cases}\n",
    "\\bar{h} =  \\frac{1}{c}\\left (-1 + \\frac{b\\bar{N}}{a+\\bar{d_2}}\\right) \\\\ \n",
    "\\bar{q} = 0 \\\\ \n",
    "\\bar{u} = - \\bar{d_1}\n",
    "\\end{cases}$"
   ]
  },
  {
   "cell_type": "markdown",
   "metadata": {},
   "source": [
    "avec $\\bar{N}>0$ (quantité de matière) et $\\bar{d_1}$, $\\bar{d_2}$ quelconques. "
   ]
  },
  {
   "cell_type": "markdown",
   "metadata": {},
   "source": [
    "### Linéarisation près du point de l'équilibre :"
   ]
  },
  {
   "cell_type": "markdown",
   "metadata": {},
   "source": [
    "On va linéariser le système en se plaçant près d'une position d'équilibre. On pourra ensuite le tester en perturbations pour vérifier sa stabilité."
   ]
  },
  {
   "cell_type": "markdown",
   "metadata": {},
   "source": [
    "$\\begin{cases}\n",
    "\\delta\\dot{h} & = & \\delta q \\\\ \n",
    "\\delta\\dot{q} & = & bc\\bar{N} \\delta f - (1-c\\bar{h})b\\delta N + \\delta d_2\\\\ \n",
    "\\delta\\dot{N} & = & \\delta u + \\delta d_1\n",
    "\\end{cases}$"
   ]
  },
  {
   "cell_type": "markdown",
   "metadata": {},
   "source": [
    "Alors on peut réécrire le système sous la forme matricielle suivante :"
   ]
  },
  {
   "cell_type": "markdown",
   "metadata": {},
   "source": [
    "$\\begin{pmatrix}\n",
    "\\delta \\dot{h}\\\\ \\delta \\dot{q}\\\\ \\delta \\dot{N}\n",
    "\\end{pmatrix} = \n",
    "\\begin{pmatrix}\n",
    "0 & 1 & 0\\\\ \n",
    "bc\\bar{N} & 0 & -b(1-c\\bar{h})\\\\ \n",
    "0 & 0 & 0\n",
    "\\end{pmatrix}\n",
    "\\begin{pmatrix}\n",
    "\\delta h\\\\ \\delta q\\\\ \\delta N\n",
    "\\end{pmatrix} + \n",
    "\\begin{pmatrix}\n",
    "0 \\\\ 0 \\\\ 1\n",
    "\\end{pmatrix} \\delta u + \n",
    "\\begin{pmatrix}\n",
    "0 \\\\ \\delta d_2 \\\\ \\delta d_1\n",
    "\\end{pmatrix}\n",
    "$"
   ]
  },
  {
   "cell_type": "markdown",
   "metadata": {},
   "source": [
    "En notant $A = \\begin{pmatrix}\n",
    "0 & 1 & 0\\\\ \n",
    "bc\\bar{N} & 0 & -b(1-c\\bar{h})\\\\ \n",
    "0 & 0 & 0\n",
    "\\end{pmatrix}$, on a alors :"
   ]
  },
  {
   "cell_type": "markdown",
   "metadata": {},
   "source": [
    "$det(sI-A) = \\begin{vmatrix}\n",
    "s & -1 & 0\\\\ \n",
    "-bc\\bar{N} & s & b(1-c\\bar{h})\\\\ \n",
    "0 & 0 & s\n",
    "\\end{vmatrix} = s(s-\\sqrt{bc\\bar{N}})(s+\\sqrt{bc\\bar{N}})$\n"
   ]
  },
  {
   "cell_type": "markdown",
   "metadata": {},
   "source": [
    "On a des racines à parties réelles négatives, donc le système n'est pas e-stable. En effet, il ne respecte pas les critères de Routh."
   ]
  },
  {
   "cell_type": "markdown",
   "metadata": {},
   "source": [
    "Pour l'étude qui suit, on se place dans le cas $\\bar{h}=0$, donc $\\bar{N}=0.4 mol$"
   ]
  },
  {
   "cell_type": "markdown",
   "metadata": {},
   "source": [
    "## Question 1 - Mesure de $h_m$"
   ]
  },
  {
   "cell_type": "markdown",
   "metadata": {},
   "source": [
    "### Correcteur PD"
   ]
  },
  {
   "cell_type": "markdown",
   "metadata": {},
   "source": [
    "Pour mettre en place un correcteur PD, on va utiliser la consigne ci-dessous, dont on va chercher à déterminer les variables :"
   ]
  },
  {
   "cell_type": "markdown",
   "metadata": {},
   "source": [
    "$\\delta u= -k\\delta h_m - k_d \\delta \\dot{h_m } + k_r \\delta h_r$"
   ]
  },
  {
   "cell_type": "markdown",
   "metadata": {},
   "source": [
    "On peut alors réécrire le système sous la forme matricielle :"
   ]
  },
  {
   "cell_type": "markdown",
   "metadata": {},
   "source": [
    "$\\begin{pmatrix}\n",
    "\\delta \\dot{h}\\\\ \\delta \\dot{q}\\\\ \\delta \\dot{N}\n",
    "\\end{pmatrix} = \n",
    "\\begin{pmatrix}\n",
    "0 & 1 & 0\\\\ \n",
    "bc\\bar{N} & 0 & -b(1-c\\bar{h})\\\\ \n",
    "-k & -k_d & 0\n",
    "\\end{pmatrix}\n",
    "\\begin{pmatrix}\n",
    "\\delta h\\\\ \\delta q\\\\ \\delta N\n",
    "\\end{pmatrix} + \n",
    "\\begin{pmatrix}\n",
    "0 \\\\ 0 \\\\ k_r\n",
    "\\end{pmatrix} \\delta h_r + \n",
    "\\begin{pmatrix}\n",
    "0 \\\\ \\delta d_2 \\\\ \\delta d_1\n",
    "\\end{pmatrix}\n",
    "$"
   ]
  },
  {
   "cell_type": "markdown",
   "metadata": {},
   "source": [
    "En notant $A = \\begin{pmatrix}\n",
    "0 & 1 & 0\\\\ \n",
    "bc\\bar{N} & 0 & -b(1-c\\bar{h})\\\\ \n",
    "-k & -k_d & 0\n",
    "\\end{pmatrix}$, on a alors :"
   ]
  },
  {
   "cell_type": "markdown",
   "metadata": {},
   "source": [
    "$det(sI-A) = s^3 + (-bc\\bar{N}-bk_d(1-c\\bar{h}))s-b(1-c\\bar{h})k$"
   ]
  },
  {
   "cell_type": "markdown",
   "metadata": {},
   "source": [
    "Il n'y a pas de coefficient d'ordre 2, donc il est nul, alors le critère de Routh n'est pas respecté. <br> Le système n'est pas e-stable. <br>\n",
    "Nous allons néanmoins continuer l'analyse afin d'implémenter un correcteur PD et montrer en pratique que le système n'est pas e-stable dans ce cas-ci."
   ]
  },
  {
   "cell_type": "markdown",
   "metadata": {},
   "source": [
    "* À l'équilibre pour $\\delta d_1 = \\delta d_2 = 0$, on a : <br> \n",
    "$ 0 = \\bar{\\delta \\dot{N}} = \\bar{\\delta u} = -k\\bar{\\delta h_m} + k_r \\bar{\\delta h_r}$ <br>\n",
    "or à l'équilibre $\\bar{\\delta h_m} = \\bar{\\delta h_r} \\Rightarrow k = k_r$\n"
   ]
  },
  {
   "cell_type": "markdown",
   "metadata": {},
   "source": [
    "* Par le critère de Routh pour le polynôme caractéristique : <br>\n",
    "$\\left\\{\\begin{matrix}\n",
    "0 & >0 \\\\ \n",
    "b(1-c\\bar{h})k & >0\\\\ \n",
    "-(b(1-c\\bar{h})k)^2 & >0\n",
    "\\end{matrix}\\right.$"
   ]
  },
  {
   "cell_type": "markdown",
   "metadata": {},
   "source": [
    "La première et la troisième équation sont absurdes, c'est pourquoi le système n'est pas e-stable."
   ]
  },
  {
   "cell_type": "markdown",
   "metadata": {},
   "source": [
    "## Correcteur PID"
   ]
  },
  {
   "cell_type": "markdown",
   "metadata": {},
   "source": [
    "On essaie alors d'implémenter un correcteur PID pour voir s'il serait possible grâce à lui de stabiliser le système. On se base alors sur la consigne ci-dessous :"
   ]
  },
  {
   "cell_type": "markdown",
   "metadata": {},
   "source": [
    "$\\delta u = -k \\delta h_m - k_d \\delta \\dot{h_m} + k_r \\delta h_r + k_i \\delta \\mu_i$"
   ]
  },
  {
   "cell_type": "markdown",
   "metadata": {},
   "source": [
    "où $\\dot{\\mu_i} = h_m - h_r$ est le terme intégral."
   ]
  },
  {
   "cell_type": "markdown",
   "metadata": {},
   "source": [
    "On peut donc réécrire le système sous forme matricielle :"
   ]
  },
  {
   "cell_type": "markdown",
   "metadata": {},
   "source": [
    "$\\begin{pmatrix}\n",
    "\\delta \\dot{\\mu_i} \\\\ \\delta \\dot{h}\\\\ \\delta \\dot{q}\\\\ \\delta \\dot{N}\n",
    "\\end{pmatrix} = \n",
    "\\begin{pmatrix}\n",
    "0 & 0 & 1 & 0\\\\\n",
    "0 & 1 & 0 & 0\\\\ \n",
    "0 & bc\\bar{N} & 0 & -b(1-c\\bar{h})\\\\ \n",
    "+k_i & -k & -k_d & 0\n",
    "\\end{pmatrix}\n",
    "\\begin{pmatrix}\n",
    "\\delta \\mu_i \\\\ \\delta h\\\\ \\delta q\\\\ \\delta N\n",
    "\\end{pmatrix} + \n",
    "\\begin{pmatrix}\n",
    "-1 \\\\ 0 \\\\ 0 \\\\ k_r\n",
    "\\end{pmatrix} \\delta h_r + \n",
    "\\begin{pmatrix}\n",
    "0 \\\\ 0 \\\\ \\delta d_2 \\\\ \\delta d_1\n",
    "\\end{pmatrix}\n",
    "$"
   ]
  },
  {
   "cell_type": "markdown",
   "metadata": {},
   "source": [
    "En notant $A = \\begin{pmatrix}\n",
    "0 & 0 & 1 & 0\\\\\n",
    "0 & 1 & 0 & 0\\\\ \n",
    "0 & bc\\bar{N} & 0 & -b(1-c\\bar{h})\\\\ \n",
    "+k_i & -k & -k_d & 0\n",
    "\\end{pmatrix}$, on a:"
   ]
  },
  {
   "cell_type": "markdown",
   "metadata": {},
   "source": [
    "$det(sI-A) = +k_i\n",
    "\\begin{vmatrix}\n",
    "-1 & 0 & 0 \\\\ \n",
    "s & -1 & 0 \\\\\n",
    "-bc\\bar{N} & s & b(1-c\\bar{h})\n",
    "\\end{vmatrix}\n",
    "+s\n",
    "\\begin{vmatrix}\n",
    "s & -1 & 0 \\\\\n",
    "-bc\\bar{N} & s & b(1-c\\bar{h})\\\\\n",
    "-k & -k_d & s\n",
    "\\end{vmatrix}$"
   ]
  },
  {
   "cell_type": "markdown",
   "metadata": {},
   "source": [
    "$~~~~~~~~~~~~~~~~~~~~$ $ = -k_i \\begin{vmatrix}\n",
    "-1 & 0 \\\\ \n",
    "s & b(1-c\\bar{h})\n",
    "\\end{vmatrix}\n",
    "+s^2\\begin{vmatrix}\n",
    "s & b(1-c\\bar{h}) \\\\ \n",
    "k_d & s\n",
    "\\end{vmatrix}\n",
    "+s\\begin{vmatrix}\n",
    "-bc\\bar{N} & b(1-c\\bar{h})\\\\ \n",
    "k & s\n",
    "\\end{vmatrix}$"
   ]
  },
  {
   "cell_type": "markdown",
   "metadata": {},
   "source": [
    "$~~~~~~~~~~~~~~~~~~~~ = s^4 - (k_d b(1-c\\bar{h})+bc\\bar{N})s^2 -kb(1-c\\bar{h})s + k_ib(1-c\\bar{h}) $"
   ]
  },
  {
   "cell_type": "markdown",
   "metadata": {},
   "source": [
    "Notons $det(sI-A) = s^4 + a_1 s^3 + a_2 s^2 + a_3 s + a_4 $"
   ]
  },
  {
   "cell_type": "markdown",
   "metadata": {},
   "source": [
    "Où $a_1 = 0$, $a_2 = -k_d b(1-c\\bar{h}$, $a_3 = -kb(1-c\\bar{h})$ et $a_4 = k_ib(1-c\\bar{h})$"
   ]
  },
  {
   "cell_type": "markdown",
   "metadata": {},
   "source": [
    "* Selon le critère de Routh, $a_1 > 0$ n'est pas respecté; <br>\n",
    "$\\Rightarrow$ Le système n'est pas e-stable. <br>"
   ]
  },
  {
   "cell_type": "markdown",
   "metadata": {},
   "source": [
    "### Conclusion"
   ]
  },
  {
   "cell_type": "markdown",
   "metadata": {},
   "source": [
    "Les coefficients nuls dans les deux critères de Routh précédents étaient issus d'une absence de mesure de N. On va donc y remédier en ajoutant une mesure $N_m$ au correcteur."
   ]
  },
  {
   "cell_type": "markdown",
   "metadata": {},
   "source": [
    "![Question1-1](Question1-1.png)"
   ]
  },
  {
   "cell_type": "markdown",
   "metadata": {},
   "source": [
    "En absence de perturbations $d_1$ et $d_2$, le système n'est pas stable, car il diverge."
   ]
  },
  {
   "cell_type": "markdown",
   "metadata": {},
   "source": [
    "![Question1-2](Question1-2.png)"
   ]
  },
  {
   "cell_type": "markdown",
   "metadata": {},
   "source": [
    "De ce fait, il n'est toujours pas e-stable en présence de perturbation $d_1$ et $d_2$."
   ]
  },
  {
   "cell_type": "markdown",
   "metadata": {},
   "source": [
    "## Question 2 - Mesure de $h_m$ et $N_m$"
   ]
  },
  {
   "cell_type": "markdown",
   "metadata": {},
   "source": [
    "On va implémenter le correcteur PD ci-dessous :"
   ]
  },
  {
   "cell_type": "markdown",
   "metadata": {},
   "source": [
    "$\\delta u= -k\\delta h_m - k_d \\delta \\dot{h_m } + k_r \\delta h_r - k_n \\delta N_m$"
   ]
  },
  {
   "cell_type": "markdown",
   "metadata": {},
   "source": [
    "On peut alors réécrire le système sous forme matricielle :"
   ]
  },
  {
   "cell_type": "markdown",
   "metadata": {},
   "source": [
    "$\\begin{pmatrix}\n",
    "\\delta \\dot{h}\\\\ \\delta \\dot{q}\\\\ \\delta \\dot{N}\n",
    "\\end{pmatrix} = \n",
    "\\begin{pmatrix}\n",
    "0 & 1 & 0\\\\ \n",
    "bc\\bar{N} & 0 & -b(1-c\\bar{h})\\\\ \n",
    "-k & -k_d & -k_n\n",
    "\\end{pmatrix}\n",
    "\\begin{pmatrix}\n",
    "\\delta h\\\\ \\delta q\\\\ \\delta N\n",
    "\\end{pmatrix} + \n",
    "\\begin{pmatrix}\n",
    "0 \\\\ 0 \\\\ k_r\n",
    "\\end{pmatrix} \\delta h_r + \n",
    "\\begin{pmatrix}\n",
    "0 \\\\ \\delta d_2 \\\\ \\delta d_1\n",
    "\\end{pmatrix}\n",
    "$"
   ]
  },
  {
   "cell_type": "markdown",
   "metadata": {},
   "source": [
    "En notant $A = \\begin{pmatrix}\n",
    "0 & 1 & 0\\\\ \n",
    "bc\\bar{N} & 0 & -b(1-c\\bar{h})\\\\ \n",
    "-k & -k_d & -k_n\n",
    "\\end{pmatrix}$, on a :"
   ]
  },
  {
   "cell_type": "markdown",
   "metadata": {},
   "source": [
    "$det(sI-A) = s^3 + k_n S^2 + (-bc\\bar{N}-bk_d(1-c\\bar{h}))s-b(1-c\\bar{h})k - k_n bc\\bar{N}$"
   ]
  },
  {
   "cell_type": "markdown",
   "metadata": {},
   "source": [
    "* Par le critère de Routh pour le polynôme caractéristique : <br>\n",
    "$\\begin{cases}\n",
    "k_n & >0 \\\\ \n",
    "k_n(-bc\\bar{N}-bk_d(1-c\\bar{h})) - (-b(1-c\\bar{h})k - k_n bc\\bar{N}) & >0\\\\ \n",
    "-b(1-c\\bar{h})k - k_n bc\\bar{N} & >0\n",
    "\\end{cases}\n",
    "~~~\\Rightarrow~~~~ \n",
    "\\begin{cases}\n",
    "k_n & >0 \\\\ \n",
    "k_d & < \\frac{k}{k_n} \\\\ \n",
    "\\frac{k}{k_n} & < \\frac{-c\\bar{N}}{1-c\\bar{h}} <0\n",
    "\\end{cases}$"
   ]
  },
  {
   "cell_type": "markdown",
   "metadata": {},
   "source": [
    "On peut donc choisir les coefficients du correcteur afin d'assurer qu'il soit e-stable."
   ]
  },
  {
   "cell_type": "markdown",
   "metadata": {},
   "source": [
    "* À l'équilibre $\\delta \\dot{q} = 0$, $\\delta \\dot{N} = 0$, $\\delta \\dot{d_1} = \\delta \\dot{d_2} = 0$, $\\delta \\bar{\\dot{h_m}} = 0$ et $\\delta \\dot{h_m} = \\delta \\dot{h_r}$.  <br>\n",
    "Donc \n",
    "$\\begin{cases}\n",
    "0 & = -k \\delta \\bar{h_r} + k_r \\delta \\bar{h_r} - k_n \\delta \\bar{N_m} \\\\\n",
    "0 & = bc\\bar{N} \\delta \\bar{h_r} - b(1-c\\bar{h})\\delta \\bar{N_m}\n",
    "\\end{cases}\n",
    "~~~\\Rightarrow~~~~ \n",
    "\\begin{cases}\n",
    "0 & = k_r - k - k_n \\frac{c\\bar{N}}{1-c\\bar{h}} \\\\ \n",
    "\\bar{N_m} & = \\frac{c\\bar{N}}{1-c\\bar{h}} \\bar{h_r}\n",
    "\\end{cases}$"
   ]
  },
  {
   "cell_type": "markdown",
   "metadata": {},
   "source": [
    "![Question2-1](Question2-1.png)"
   ]
  },
  {
   "cell_type": "markdown",
   "metadata": {},
   "source": [
    "En l'absence de perturbations, le correcteur PD suffit à stabiliser le système, bien que l'on observe de petites oscillations autour de la position d'équilibre."
   ]
  },
  {
   "cell_type": "markdown",
   "metadata": {},
   "source": [
    "![Question2-2](Question2-2.png)"
   ]
  },
  {
   "cell_type": "markdown",
   "metadata": {},
   "source": [
    "Nous avons choisi des valeurs assez basses de $d_1$ et $d_2$, car une perturbation sur N doit être faible ($N_{max}$ est 0.4 mol selon l'étude en boucle ouverte entre autres). <br>\n",
    "Le système comporte une erreur statique en hauteur équivalente à l'opposée de $d_1$. Néanmoins il reste stable autour de sa position finale. Cela pourrait être résolu avec un correcteur PID."
   ]
  },
  {
   "cell_type": "markdown",
   "metadata": {},
   "source": [
    "## Question 3 - Capteurs"
   ]
  },
  {
   "cell_type": "markdown",
   "metadata": {},
   "source": [
    "* Pour mesurer h, il faut utiliser un baromètre : $p = p_0 + \\rho gh$ <br>\n",
    "$\\Rightarrow h_m = \\frac{p_m - p_0}{\\rho g} + \\nu_h$ <br>\n",
    "avec $\\nu_h$ le bruit de mesure."
   ]
  },
  {
   "cell_type": "markdown",
   "metadata": {},
   "source": [
    "* $\\rightarrow$ EM500-SWL (https://www.directindustry.fr/prod/ursalink-technology-co-ltd/product-204565-2273571.html)<br>\n",
    "Jusqu'à $-200m$, avec une précision de $\\pm 0,5 \\% FS$ (Full-Scale)."
   ]
  },
  {
   "cell_type": "markdown",
   "metadata": {},
   "source": [
    "![Barometre](EM500-SWL.png)"
   ]
  },
  {
   "cell_type": "markdown",
   "metadata": {},
   "source": [
    "Ce capteur peut mesurer jusqu'à 200m de profondeur et est assez précis, c'est donc un bon candidat. De plus sa taille réduite est cohérente avec celle du système de bouteilles de plongée."
   ]
  },
  {
   "cell_type": "markdown",
   "metadata": {},
   "source": [
    "* Pour mesurer $\\dot{N_m}$ : $\\leftarrow$ débitmètre : $\\dot{N_m} = u + d_1$ <br>\n",
    "$\\Rightarrow N_m = N_0 + \\int_{0}^{T}(u(t)dt + \\nu_N(t))$\n",
    "<br>\n",
    "avec $\\nu_h$ le bruit de mesure."
   ]
  },
  {
   "cell_type": "markdown",
   "metadata": {},
   "source": [
    "* $\\rightarrow$ Prowirl 200 D (version compacte) (https://www.fr.endress.com/fr/instrumentation-terrain-sur-mesure/debit-mesure-produits/proline-prowirl-D-200-debitmetre-vortex-7D2C)<br>\n",
    "$\\rightarrow$ capteur CF3M (vapeur gaz) avec une erreur de mesure maximale de $\\pm 1,00 \\%$\n",
    "<br>\n",
    "$\\rightarrow$ jusqu'à $-40^\\circ C$ et $50 bar$"
   ]
  },
  {
   "cell_type": "markdown",
   "metadata": {},
   "source": [
    "![Debitmetre](Prowirl_D_200.jpg)"
   ]
  },
  {
   "cell_type": "markdown",
   "metadata": {},
   "source": [
    "Ce capteur est capable de résister à des températures basses et des pressions éleves, il est donc adapté à la plongée. De plus cette version compacte est disponible dans des dimensions cohérentes avec celles du système de bouteille de plongée, entre autres de petit diamètre de tuyau sur lequel mesurer le débit."
   ]
  }
 ],
 "metadata": {
  "kernelspec": {
   "display_name": "Python 3",
   "language": "python",
   "name": "python3"
  },
  "language_info": {
   "codemirror_mode": {
    "name": "ipython",
    "version": 3
   },
   "file_extension": ".py",
   "mimetype": "text/x-python",
   "name": "python",
   "nbconvert_exporter": "python",
   "pygments_lexer": "ipython3",
   "version": "3.7.6"
  }
 },
 "nbformat": 4,
 "nbformat_minor": 4
}
