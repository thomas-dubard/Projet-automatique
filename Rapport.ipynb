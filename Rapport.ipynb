{
 "cells": [
  {
   "cell_type": "markdown",
   "metadata": {},
   "source": [
    "Entrée : $h_r$ <br>\n",
    "Sortie à mesurer : $h_m$, $N_m$ <br>\n",
    "Sortie à contrôler : $N$ <br>\n",
    "Etats : h, h', N"
   ]
  },
  {
   "cell_type": "markdown",
   "metadata": {},
   "source": [
    "$N' = u + d_1$ <br>\n",
    "$h'' = g - {B \\over m} + d_2$ <br>\n",
    "$B = \\rho \\cdot g \\cdot V_0 + \\rho \\cdot g \\cdot V$ <br>\n",
    "$p = p_0 + \\rho \\cdot g \\cdot h$ <br>\n",
    "$p \\cdot V = N \\cdot R \\cdot T$"
   ]
  },
  {
   "cell_type": "markdown",
   "metadata": {},
   "source": [
    "$g - {B \\over m}\n",
    "{\n",
    "= g \\Big(1 - {\\rho \\cdot V_0 \\over m} - {\\rho \\cdot V \\over m} \\Big) \\\\\n",
    "= a - {\\rho \\cdot g \\over m} V \\\\\n",
    "= a - b \\cdot {p_0 \\over R \\cdot T} \\cdot V \\\\\n",
    "= a - b \\cdot {p_0 \\over R \\cdot T} \\cdot {R \\cdot T \\over p} \\cdot N \\\\\n",
    "= a - b \\cdot {p_0 \\over p_0 + \\rho \\cdot g \\cdot h} \\cdot N \\\\\n",
    "= a - {b \\cdot N \\over 1 + c \\cdot h}\n",
    "}$"
   ]
  },
  {
   "cell_type": "markdown",
   "metadata": {},
   "source": [
    "$\\begin{cases}\n",
    "h' & = & q \\\\\n",
    "q' & = & a - { b \\cdot N \\over 1 + c \\cdot h} + d_2 \\\\\n",
    "N' & = & u + d_1\n",
    "\\end{cases} ~~~~~~~~~~~ \\begin{cases}\n",
    "h' = q \\\\\n",
    "q' = a - { b \\cdot N \\over 1 + c \\cdot h} + d_2 \\\\\n",
    "N' = u + d_1\n",
    "\\end{cases}$"
   ]
  },
  {
   "cell_type": "markdown",
   "metadata": {},
   "source": [
    "## Q0 Théorique"
   ]
  },
  {
   "cell_type": "markdown",
   "metadata": {},
   "source": [
    "* Entrée : $h_r$\n",
    "* Sortie à mesurer : $h_m$\n",
    "* Sortie à contrôler : $\\dot{N}$\n",
    "* États : $p, V, h, \\dot{h}, N$"
   ]
  },
  {
   "cell_type": "markdown",
   "metadata": {},
   "source": [
    "$\\dot{N} = u + d_1$ <br>\n",
    "$\\ddot{h} = g - \\frac{B}{m} + d_2$ <br>\n",
    "$B = \\rho g V_0 + \\rho g V$ <br>\n",
    "$p = p_0 + \\rho g h$ <br>\n",
    "$pV = NRT$"
   ]
  },
  {
   "cell_type": "markdown",
   "metadata": {},
   "source": [
    "Or nous avons :"
   ]
  },
  {
   "cell_type": "markdown",
   "metadata": {},
   "source": [
    "$a = g \\left (1 - \\frac{\\rho V_0}{m}\\right )$, $b = \\frac{\\rho g}{m}\\frac{RT}{\\rho_0}$, $c = \\frac{\\rho g}{\\rho_0}$"
   ]
  },
  {
   "cell_type": "markdown",
   "metadata": {},
   "source": [
    "Par le changement de variable, et Notons $\\dot{h} = q$, nous obtenons : "
   ]
  },
  {
   "cell_type": "markdown",
   "metadata": {},
   "source": [
    "$\\begin{cases}\n",
    "\\dot{h} = q \\\\ \n",
    "\\dot{q} = a - \\frac{bN}{1-c\\bar{h}} + d_2\\\\ \n",
    "\\dot{N} = u + d_1\n",
    "\\end{cases}$"
   ]
  },
  {
   "cell_type": "markdown",
   "metadata": {},
   "source": [
    "À l'équilibre, nous avons $\\dot{h} = \\dot{q} = \\dot{N} = 0$, qui nous donne :"
   ]
  },
  {
   "cell_type": "markdown",
   "metadata": {},
   "source": [
    "$\\begin{cases}\n",
    "0 = q \\\\ \n",
    "0 = a - \\frac{bN}{1-c\\bar{h}} + d_2\\\\ \n",
    "0 = u + d_1\n",
    "\\end{cases}\n",
    "~~~\\Rightarrow~~~~\n",
    "\\begin{cases}\n",
    "\\bar{h} =  \\frac{1}{c}\\left (-1 + \\frac{b\\bar{N}}{a+\\bar{d_2}}\\right) \\\\ \n",
    "\\bar{q} = 0 \\\\ \n",
    "\\bar{u} = - \\bar{d_1}\n",
    "\\end{cases}$"
   ]
  },
  {
   "cell_type": "markdown",
   "metadata": {},
   "source": [
    "avec $\\bar{N}>0$ (quantité de matière) et $\\bar{d_1}$, $\\bar{d_2}$ quelconques. "
   ]
  },
  {
   "cell_type": "markdown",
   "metadata": {},
   "source": [
    "Linéarisation près du point de l'équilibre :"
   ]
  },
  {
   "cell_type": "markdown",
   "metadata": {},
   "source": [
    "$\\begin{cases}\n",
    "\\delta\\dot{h} & = & \\delta q \\\\ \n",
    "\\delta\\dot{q} & = & bc\\bar{N} \\delta f - (1-c\\bar{h})b\\delta N + \\delta d_2\\\\ \n",
    "\\delta\\dot{N} & = & \\delta u + \\delta d_1\n",
    "\\end{cases}$"
   ]
  },
  {
   "cell_type": "markdown",
   "metadata": {},
   "source": [
    "$\\begin{pmatrix}\n",
    "\\delta \\dot{h}\\\\ \\delta \\dot{q}\\\\ \\delta \\dot{N}\n",
    "\\end{pmatrix} = \n",
    "\\begin{pmatrix}\n",
    "0 & 1 & 0\\\\ \n",
    "bc\\bar{N} & 0 & -b(1-c\\bar{h})\\\\ \n",
    "0 & 0 & 0\n",
    "\\end{pmatrix}\n",
    "\\begin{pmatrix}\n",
    "\\delta h\\\\ \\delta q\\\\ \\delta N\n",
    "\\end{pmatrix} + \n",
    "\\begin{pmatrix}\n",
    "0 \\\\ 0 \\\\ 1\n",
    "\\end{pmatrix} \\delta u + \n",
    "\\begin{pmatrix}\n",
    "0 \\\\ \\delta d_2 \\\\ \\delta d_1\n",
    "\\end{pmatrix}\n",
    "$"
   ]
  },
  {
   "cell_type": "markdown",
   "metadata": {},
   "source": [
    "$dev(sI-A) = \\begin{vmatrix}\n",
    "s & -1 & 0\\\\ \n",
    "-bc\\bar{N} & s & b(1-c\\bar{h})\\\\ \n",
    "0 & 0 & s\n",
    "\\end{vmatrix} = s(s-\\sqrt{bc\\bar{N}})(s+\\sqrt{bc\\bar{N}})$\n"
   ]
  },
  {
   "cell_type": "markdown",
   "metadata": {},
   "source": [
    "## Q1"
   ]
  },
  {
   "cell_type": "markdown",
   "metadata": {},
   "source": [
    "$\\delta u= -k\\delta h_m - k_d \\delta \\dot{h_m } + k_r \\delta h_r$"
   ]
  },
  {
   "cell_type": "markdown",
   "metadata": {},
   "source": [
    "$\\begin{pmatrix}\n",
    "\\delta \\dot{h}\\\\ \\delta \\dot{q}\\\\ \\delta \\dot{N}\n",
    "\\end{pmatrix} = \n",
    "\\begin{pmatrix}\n",
    "0 & 1 & 0\\\\ \n",
    "bc\\bar{N} & 0 & -b(1-c\\bar{h})\\\\ \n",
    "-k & -k_d & 0\n",
    "\\end{pmatrix}\n",
    "\\begin{pmatrix}\n",
    "\\delta h\\\\ \\delta q\\\\ \\delta N\n",
    "\\end{pmatrix} + \n",
    "\\begin{pmatrix}\n",
    "0 \\\\ 0 \\\\ k_r\n",
    "\\end{pmatrix} \\delta h_r + \n",
    "\\begin{pmatrix}\n",
    "0 \\\\ \\delta d_2 \\\\ \\delta d_1\n",
    "\\end{pmatrix}\n",
    "$"
   ]
  },
  {
   "cell_type": "markdown",
   "metadata": {},
   "source": [
    "$dev(sI-A) = s^3 + (-bc\\bar{N}-bk_d(1-c\\bar{h}))s-b(1-c\\bar{h})k$"
   ]
  },
  {
   "cell_type": "markdown",
   "metadata": {},
   "source": [
    "$\\Rightarrow $ pas de coef en $s^2$"
   ]
  },
  {
   "cell_type": "markdown",
   "metadata": {},
   "source": [
    "* À l'équilibre pour $\\delta d_1 = \\delta d_2 = 0$, on a : <br> \n",
    "$ 0 = \\bar{\\delta \\dot{N}} = \\bar{\\delta u} = -k\\bar{\\delta h_m} + k_r \\bar{\\delta h_r}$ <br>\n",
    "or à l'équilibre $\\bar{\\delta h_m} = \\bar{\\delta h_r} \\Rightarrow k = k_r$\n"
   ]
  },
  {
   "cell_type": "markdown",
   "metadata": {},
   "source": [
    "* Par le critère de Routh pour le polynôme caractéristique : <br>\n",
    "$\\left\\{\\begin{matrix}\n",
    "0 & >0 \\\\ \n",
    "b(1-c\\bar{h})k & >0\\\\ \n",
    "-(b(1-c\\bar{h})k)^2 & >0\n",
    "\\end{matrix}\\right.$"
   ]
  },
  {
   "cell_type": "markdown",
   "metadata": {},
   "source": [
    "## Q2"
   ]
  },
  {
   "cell_type": "markdown",
   "metadata": {},
   "source": [
    "$\\delta u= -k\\delta h_m - k_d \\delta \\dot{h_m } + k_r \\delta h_r - k_n \\delta N_m$"
   ]
  },
  {
   "cell_type": "markdown",
   "metadata": {},
   "source": [
    "$\\begin{pmatrix}\n",
    "\\delta \\dot{h}\\\\ \\delta \\dot{q}\\\\ \\delta \\dot{N}\n",
    "\\end{pmatrix} = \n",
    "\\begin{pmatrix}\n",
    "0 & 1 & 0\\\\ \n",
    "bc\\bar{N} & 0 & -b(1-c\\bar{h})\\\\ \n",
    "-k & -k_d & -k_n\n",
    "\\end{pmatrix}\n",
    "\\begin{pmatrix}\n",
    "\\delta h\\\\ \\delta q\\\\ \\delta N\n",
    "\\end{pmatrix} + \n",
    "\\begin{pmatrix}\n",
    "0 \\\\ 0 \\\\ k_r\n",
    "\\end{pmatrix} \\delta h_r + \n",
    "\\begin{pmatrix}\n",
    "0 \\\\ \\delta d_2 \\\\ \\delta d_1\n",
    "\\end{pmatrix}\n",
    "$"
   ]
  },
  {
   "cell_type": "markdown",
   "metadata": {},
   "source": [
    "$dev(sI-A) = s^3 + k_n S^2 + (-bc\\bar{N}-bk_d(1-c\\bar{h}))s-b(1-c\\bar{h})k - k_n bc\\bar{N}$"
   ]
  },
  {
   "cell_type": "markdown",
   "metadata": {},
   "source": [
    "* Par le critère de Routh pour le polynôme caractéristique : <br>\n",
    "$\\begin{cases}\n",
    "k_n & >0 \\\\ \n",
    "k_n(-bc\\bar{N}-bk_d(1-c\\bar{h})) - (-b(1-c\\bar{h})k - k_n bc\\bar{N}) & >0\\\\ \n",
    "-b(1-c\\bar{h})k - k_n bc\\bar{N} & >0\n",
    "\\end{cases}\n",
    "~~~\\Rightarrow~~~~ \n",
    "\\begin{cases}\n",
    "k_n & >0 \\\\ \n",
    "k_d & < \\frac{k}{k_n} \\\\ \n",
    "\\frac{k}{k_n} & < \\frac{-c\\bar{N}}{1-c\\bar{h}} <0\n",
    "\\end{cases}$"
   ]
  },
  {
   "cell_type": "markdown",
   "metadata": {},
   "source": [
    "* À l'équilibre $\\delta \\dot{q} = 0$, $\\delta \\dot{N} = 0$, $\\delta \\dot{d_1} = \\delta \\dot{d_2} = 0$, $\\delta \\bar{\\dot{h_m}} = 0$ et $\\delta \\dot{h_m} = \\delta \\dot{h_r}$.  <br>\n",
    "Donc \n",
    "$\\begin{cases}\n",
    "0 & = -k \\delta \\bar{h_r} + k_r \\delta \\bar{h_r} - k_n \\delta \\bar{N_m} \\\\\n",
    "0 & = bc\\bar{N} \\delta \\bar{h_r} - b(1-c\\bar{h})\\delta \\bar{N_m}\n",
    "\\end{cases}\n",
    "~~~\\Rightarrow~~~~ \n",
    "\\begin{cases}\n",
    "0 & = k_r - k - k_n \\frac{c\\bar{N}}{1-c\\bar{h}} \\\\ \n",
    "\\bar{N_m} & = \\frac{c\\bar{N}}{1-c\\bar{h}} \\bar{h_r}\n",
    "\\end{cases}$"
   ]
  },
  {
   "cell_type": "markdown",
   "metadata": {},
   "source": [
    "## Q3"
   ]
  },
  {
   "cell_type": "markdown",
   "metadata": {},
   "source": [
    "* Pour mesurer h, il faut utiliser un baromètre : $p = p_0 + \\rho gh$ <br>\n",
    "$\\Rightarrow h_m = \\frac{p_m - p_0}{\\rho g} + \\nu_h$ <br>\n",
    "avec $\\nu_h$ le bruit de mesure."
   ]
  },
  {
   "cell_type": "markdown",
   "metadata": {},
   "source": [
    "* $\\rightarrow$ EMSOO-SWL <br>\n",
    "Jusqu'à $-200m$, avec une précision de $\\pm 0,5 \\% FS$ (Full-Scale)."
   ]
  },
  {
   "cell_type": "markdown",
   "metadata": {},
   "source": [
    "* Pour mesurer $\\dot{N_m}$ : $\\leftarrow$ débitmètre : $\\dot{N_m} = u + d_1$ <br>\n",
    "$\\Rightarrow N_m = N_0 + \\int_{0}^{T}(u(t)dt + \\nu_N(t))$\n",
    "<br>\n",
    "avec $\\nu_h$ le bruit de mesure."
   ]
  },
  {
   "cell_type": "markdown",
   "metadata": {},
   "source": [
    "* $\\rightarrow$ Pr****ril 200 D (version compacte)<br>\n",
    "$\\rightarrow$ capteur CF3M (vapeur gaz) avec une erreur de mesure maximale de $\\pm 1,00 \\%$\n",
    "<br>\n",
    "$\\rightarrow$ jusqu'à $-40^\\circ C$ et $50 bar$"
   ]
  },
  {
   "cell_type": "code",
   "execution_count": null,
   "metadata": {},
   "outputs": [],
   "source": []
  }
 ],
 "metadata": {
  "kernelspec": {
   "display_name": "Python 3",
   "language": "python",
   "name": "python3"
  },
  "language_info": {
   "codemirror_mode": {
    "name": "ipython",
    "version": 3
   },
   "file_extension": ".py",
   "mimetype": "text/x-python",
   "name": "python",
   "nbconvert_exporter": "python",
   "pygments_lexer": "ipython3",
   "version": "3.7.3"
  }
 },
 "nbformat": 4,
 "nbformat_minor": 4
}
